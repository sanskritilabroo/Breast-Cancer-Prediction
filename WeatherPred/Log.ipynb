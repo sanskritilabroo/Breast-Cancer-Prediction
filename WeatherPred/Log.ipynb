{
 "cells": [
  {
   "cell_type": "code",
   "execution_count": 325,
   "metadata": {},
   "outputs": [],
   "source": [
    "import random as rand\n",
    "import pandas as pd\n",
    "import numpy as np\n",
    "import matplotlib.pyplot as plt\n",
    "from sklearn.model_selection import train_test_split\n",
    "from sklearn.preprocessing import StandardScaler,LabelEncoder"
   ]
  },
  {
   "cell_type": "code",
   "execution_count": 326,
   "metadata": {},
   "outputs": [],
   "source": [
    "data = pd.read_csv('LogisticRegression.csv')\n",
    "data = data.dropna()"
   ]
  },
  {
   "cell_type": "code",
   "execution_count": 327,
   "metadata": {},
   "outputs": [],
   "source": [
    "X = data[['MinTemp', 'MaxTemp', 'Rainfall','Evaporation','Sunshine','RainToday']]\n",
    "X[\"RainToday\"].dtype\n",
    "X[\"RainToday\"]=(X[\"RainToday\"].replace(\"Yes\",1)).replace(\"No\",0)\n",
    "# X=X.fillna(X.mean())"
   ]
  },
  {
   "cell_type": "code",
   "execution_count": 328,
   "metadata": {},
   "outputs": [],
   "source": [
    "Y= data[['RainTomorrow']]\n",
    "Y[\"RainTomorrow\"].dtype\n",
    "Y[\"RainTomorrow\"]=(Y[\"RainTomorrow\"].replace(\"Yes\",1)).replace(\"No\",0)"
   ]
  },
  {
   "cell_type": "code",
   "execution_count": 329,
   "metadata": {},
   "outputs": [],
   "source": [
    "def sigmoid(z):\n",
    "    return 1 / (1 + np.exp(-z))\n",
    "\n",
    "\n",
    "def cost_function(y, y_pred):\n",
    "    m = len(y)\n",
    "    cost = (-1/m) * np.sum(y * np.log(y_pred) + (1 - y) * np.log(1 - y_pred))\n",
    "    return cost"
   ]
  },
  {
   "cell_type": "code",
   "execution_count": 330,
   "metadata": {},
   "outputs": [],
   "source": [
    "def logistic_regression(X, Y, learning_rate, iterations):\n",
    "    m, n = X.shape\n",
    "    coefficients = np.zeros((n,1))\n",
    "    cost_history = []\n",
    "\n",
    "    for iteration in range(iterations):\n",
    "        z = X @ coefficients\n",
    "        predictions = sigmoid(z)\n",
    "        \n",
    "        gradient = (1 / m) * (X.T @ (predictions - Y))\n",
    "        coefficients -= learning_rate * gradient\n",
    "        \n",
    "        cost = cost_function(Y, predictions)\n",
    "        cost_history.append(cost)\n",
    "\n",
    "        if iteration % 1000 == 0:\n",
    "            print(f\"Epoch {iteration}: Cost = {cost}\")\n",
    "\n",
    "    return coefficients, cost_history\n"
   ]
  },
  {
   "cell_type": "code",
   "execution_count": 331,
   "metadata": {},
   "outputs": [
    {
     "name": "stdout",
     "output_type": "stream",
     "text": [
      "(56420, 6) (56420, 1)\n"
     ]
    }
   ],
   "source": [
    "print(X.shape, Y.shape)"
   ]
  },
  {
   "cell_type": "code",
   "execution_count": 332,
   "metadata": {},
   "outputs": [],
   "source": [
    "X = (X - X.mean()) / X.std() #standardizing\n",
    "X.insert(0, \"intercept\", np.ones(len(X))) #biases\n",
    "\n",
    "X = X.values\n",
    "Y = Y.values\n",
    "\n",
    "X_train, X_test, Y_train, Y_test = train_test_split(X, Y, test_size=0.2, random_state=42)"
   ]
  },
  {
   "cell_type": "code",
   "execution_count": 333,
   "metadata": {},
   "outputs": [
    {
     "name": "stdout",
     "output_type": "stream",
     "text": [
      "(56420, 7) (56420, 1)\n"
     ]
    }
   ],
   "source": [
    "print(X.shape, Y.shape)"
   ]
  },
  {
   "cell_type": "code",
   "execution_count": 334,
   "metadata": {},
   "outputs": [
    {
     "name": "stdout",
     "output_type": "stream",
     "text": [
      "(45136, 7) (45136, 1)\n"
     ]
    }
   ],
   "source": [
    "print(X_train.shape, Y_train.shape)"
   ]
  },
  {
   "cell_type": "code",
   "execution_count": 335,
   "metadata": {},
   "outputs": [
    {
     "name": "stdout",
     "output_type": "stream",
     "text": [
      "(11284, 7) (11284, 1)\n"
     ]
    }
   ],
   "source": [
    "print(X_test.shape, Y_test.shape)"
   ]
  },
  {
   "cell_type": "code",
   "execution_count": 336,
   "metadata": {},
   "outputs": [],
   "source": [
    "def predict(X, coefficients, threshold=0.5):\n",
    "    return sigmoid(X @ coefficients) >= threshold\n",
    "\n",
    "\n",
    "def accuracy(y_true, y_pred):\n",
    "    return (np.mean(y_true == y_pred))*100"
   ]
  },
  {
   "cell_type": "code",
   "execution_count": 337,
   "metadata": {},
   "outputs": [
    {
     "name": "stdout",
     "output_type": "stream",
     "text": [
      "Epoch 0: Cost = 0.6931471805599453\n",
      "Epoch 1000: Cost = 0.5707077324754761\n",
      "Epoch 2000: Cost = 0.5102841625086119\n",
      "Epoch 3000: Cost = 0.4761221213898668\n",
      "Epoch 4000: Cost = 0.4550044170157049\n",
      "Epoch 5000: Cost = 0.4411239444846499\n",
      "Epoch 6000: Cost = 0.4315828623549777\n",
      "Epoch 7000: Cost = 0.42479689997404046\n",
      "Epoch 8000: Cost = 0.41983899158430193\n",
      "Epoch 9000: Cost = 0.4161373150408939\n",
      "Accuracy:  81.74406238922369\n"
     ]
    },
    {
     "data": {
      "image/png": "[encoded data removed]",
      "text/plain": [
       "<Figure size 640x480 with 1 Axes>"
      ]
     },
     "metadata": {},
     "output_type": "display_data"
    }
   ],
   "source": [
    "def PLOT(X,Y):\n",
    "\n",
    "    learning_rate = 0.0012\n",
    "    iterations = 10000\n",
    "\n",
    "    coefficients, cost_history = logistic_regression(X_train,Y_train, learning_rate, iterations)\n",
    "\n",
    "    predictions = predict(X_test, coefficients)\n",
    "\n",
    "    print(\"Accuracy: \", accuracy(Y_test, predictions))\n",
    "    plt.plot(range(iterations), cost_history)\n",
    "    plt.title(\"Cost Function Over Epochs\")\n",
    "    plt.xlabel(\"Epoch\")\n",
    "    plt.ylabel(\"Cost\")\n",
    "    plt.show()\n",
    "\n",
    "\n",
    "PLOT(X,Y)"
   ]
  }
 ],
 "metadata": {
  "kernelspec": {
   "display_name": "Python 3",
   "language": "python",
   "name": "python3"
  },
  "language_info": {
   "codemirror_mode": {
    "name": "ipython",
    "version": 3
   },
   "file_extension": ".py",
   "mimetype": "text/x-python",
   "name": "python",
   "nbconvert_exporter": "python",
   "pygments_lexer": "ipython3",
   "version": "3.11.7"
  }
 },
 "nbformat": 4,
 "nbformat_minor": 2
}
